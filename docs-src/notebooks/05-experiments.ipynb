{
 "cells": [
  {
   "cell_type": "markdown",
   "metadata": {},
   "source": [
    "# Experiments"
   ]
  },
  {
   "cell_type": "code",
   "execution_count": 1,
   "metadata": {},
   "outputs": [],
   "source": [
    "from prayas import *"
   ]
  },
  {
   "cell_type": "markdown",
   "metadata": {},
   "source": [
    "Experiments provide a simple way to continuously monitor the experiment performance and to decide when to stop based on the maximum potential loss of the variants. We first set up the experiment by defining the model, baseline, and measures of interest:"
   ]
  },
  {
   "cell_type": "code",
   "execution_count": 2,
   "metadata": {},
   "outputs": [],
   "source": [
    "e = Experiment(\"moonshot1\")\n",
    "\n",
    "e.setup = OneOptionModel([\"apollo\", \"gemini\"], baseline=\"apollo\")\n",
    "e.setup.add_measure(\"revenue\", [90, 80])\n",
    "e.setup.primary_measure = \"revenue\""
   ]
  },
  {
   "cell_type": "markdown",
   "metadata": {},
   "source": [
    "The specification of the experiment is:"
   ]
  },
  {
   "cell_type": "code",
   "execution_count": 3,
   "metadata": {},
   "outputs": [
    {
     "name": "stdout",
     "output_type": "stream",
     "text": [
      "Experiment with a One option model\n",
      "Variants              : apollo, gemini\n",
      "Baseline              : apollo\n",
      "Measures              : conversion, revenue\n",
      "Primary measure       : revenue\n",
      "Maximum loss threshold: 5            \n"
     ]
    }
   ],
   "source": [
    "print(e)"
   ]
  },
  {
   "cell_type": "markdown",
   "metadata": {},
   "source": [
    "Then we add the first daily data we collected:"
   ]
  },
  {
   "cell_type": "code",
   "execution_count": 4,
   "metadata": {},
   "outputs": [],
   "source": [
    "e.add_data(\"20190730\", [ 0,  0], [ 186,  180])\n",
    "e.add_data(\"20190731\", [ 7,  1], [ 714,  652])"
   ]
  },
  {
   "cell_type": "markdown",
   "metadata": {},
   "source": [
    "We can compute the daily scoring against the baseline:"
   ]
  },
  {
   "cell_type": "code",
   "execution_count": 5,
   "metadata": {},
   "outputs": [
    {
     "data": {
      "text/html": [
       "<div>\n",
       "<style scoped>\n",
       "    .dataframe tbody tr th:only-of-type {\n",
       "        vertical-align: middle;\n",
       "    }\n",
       "\n",
       "    .dataframe tbody tr th {\n",
       "        vertical-align: top;\n",
       "    }\n",
       "\n",
       "    .dataframe thead th {\n",
       "        text-align: right;\n",
       "    }\n",
       "</style>\n",
       "<table border=\"1\" class=\"dataframe\">\n",
       "  <thead>\n",
       "    <tr style=\"text-align: right;\">\n",
       "      <th></th>\n",
       "      <th>Date</th>\n",
       "      <th>Variant</th>\n",
       "      <th>Measure</th>\n",
       "      <th>ProbabilityToBeBest</th>\n",
       "      <th>ProbabilityToBeatBaseline</th>\n",
       "      <th>UpliftFromBaseline</th>\n",
       "      <th>PotentialLossFromBaseline</th>\n",
       "      <th>MaxUplift</th>\n",
       "      <th>MaxPotentialLoss</th>\n",
       "    </tr>\n",
       "  </thead>\n",
       "  <tbody>\n",
       "    <tr>\n",
       "      <th>0</th>\n",
       "      <td>20190730</td>\n",
       "      <td>apollo</td>\n",
       "      <td>revenue</td>\n",
       "      <td>0.52025</td>\n",
       "      <td>0.00000</td>\n",
       "      <td>0.000000</td>\n",
       "      <td>0.000000</td>\n",
       "      <td>7.873107</td>\n",
       "      <td>48.082056</td>\n",
       "    </tr>\n",
       "    <tr>\n",
       "      <th>1</th>\n",
       "      <td>20190730</td>\n",
       "      <td>gemini</td>\n",
       "      <td>conversion</td>\n",
       "      <td>0.51360</td>\n",
       "      <td>0.51360</td>\n",
       "      <td>2.774916</td>\n",
       "      <td>49.261737</td>\n",
       "      <td>2.376922</td>\n",
       "      <td>49.153800</td>\n",
       "    </tr>\n",
       "    <tr>\n",
       "      <th>2</th>\n",
       "      <td>20190730</td>\n",
       "      <td>apollo</td>\n",
       "      <td>conversion</td>\n",
       "      <td>0.48640</td>\n",
       "      <td>0.00000</td>\n",
       "      <td>0.000000</td>\n",
       "      <td>0.000000</td>\n",
       "      <td>-2.321736</td>\n",
       "      <td>50.730332</td>\n",
       "    </tr>\n",
       "    <tr>\n",
       "      <th>3</th>\n",
       "      <td>20190730</td>\n",
       "      <td>gemini</td>\n",
       "      <td>revenue</td>\n",
       "      <td>0.47975</td>\n",
       "      <td>0.47335</td>\n",
       "      <td>-9.783622</td>\n",
       "      <td>51.812914</td>\n",
       "      <td>-7.298489</td>\n",
       "      <td>51.468584</td>\n",
       "    </tr>\n",
       "    <tr>\n",
       "      <th>4</th>\n",
       "      <td>20190731</td>\n",
       "      <td>apollo</td>\n",
       "      <td>revenue</td>\n",
       "      <td>0.98320</td>\n",
       "      <td>0.00000</td>\n",
       "      <td>0.000000</td>\n",
       "      <td>0.000000</td>\n",
       "      <td>311.802006</td>\n",
       "      <td>1.152246</td>\n",
       "    </tr>\n",
       "    <tr>\n",
       "      <th>5</th>\n",
       "      <td>20190731</td>\n",
       "      <td>apollo</td>\n",
       "      <td>conversion</td>\n",
       "      <td>0.97125</td>\n",
       "      <td>0.00000</td>\n",
       "      <td>0.000000</td>\n",
       "      <td>0.000000</td>\n",
       "      <td>261.894077</td>\n",
       "      <td>1.617682</td>\n",
       "    </tr>\n",
       "    <tr>\n",
       "      <th>6</th>\n",
       "      <td>20190731</td>\n",
       "      <td>gemini</td>\n",
       "      <td>conversion</td>\n",
       "      <td>0.02875</td>\n",
       "      <td>0.02565</td>\n",
       "      <td>-72.858697</td>\n",
       "      <td>73.043491</td>\n",
       "      <td>-72.367605</td>\n",
       "      <td>73.412587</td>\n",
       "    </tr>\n",
       "    <tr>\n",
       "      <th>7</th>\n",
       "      <td>20190731</td>\n",
       "      <td>gemini</td>\n",
       "      <td>revenue</td>\n",
       "      <td>0.01680</td>\n",
       "      <td>0.01710</td>\n",
       "      <td>-75.669338</td>\n",
       "      <td>76.256006</td>\n",
       "      <td>-75.716485</td>\n",
       "      <td>75.975900</td>\n",
       "    </tr>\n",
       "  </tbody>\n",
       "</table>\n",
       "</div>"
      ],
      "text/plain": [
       "       Date Variant     Measure  ProbabilityToBeBest  \\\n",
       "0  20190730  apollo     revenue              0.52025   \n",
       "1  20190730  gemini  conversion              0.51360   \n",
       "2  20190730  apollo  conversion              0.48640   \n",
       "3  20190730  gemini     revenue              0.47975   \n",
       "4  20190731  apollo     revenue              0.98320   \n",
       "5  20190731  apollo  conversion              0.97125   \n",
       "6  20190731  gemini  conversion              0.02875   \n",
       "7  20190731  gemini     revenue              0.01680   \n",
       "\n",
       "   ProbabilityToBeatBaseline  UpliftFromBaseline  PotentialLossFromBaseline  \\\n",
       "0                    0.00000            0.000000                   0.000000   \n",
       "1                    0.51360            2.774916                  49.261737   \n",
       "2                    0.00000            0.000000                   0.000000   \n",
       "3                    0.47335           -9.783622                  51.812914   \n",
       "4                    0.00000            0.000000                   0.000000   \n",
       "5                    0.00000            0.000000                   0.000000   \n",
       "6                    0.02565          -72.858697                  73.043491   \n",
       "7                    0.01710          -75.669338                  76.256006   \n",
       "\n",
       "    MaxUplift  MaxPotentialLoss  \n",
       "0    7.873107         48.082056  \n",
       "1    2.376922         49.153800  \n",
       "2   -2.321736         50.730332  \n",
       "3   -7.298489         51.468584  \n",
       "4  311.802006          1.152246  \n",
       "5  261.894077          1.617682  \n",
       "6  -72.367605         73.412587  \n",
       "7  -75.716485         75.975900  "
      ]
     },
     "execution_count": 5,
     "metadata": {},
     "output_type": "execute_result"
    }
   ],
   "source": [
    "e.monitor_score_baseline()"
   ]
  },
  {
   "cell_type": "markdown",
   "metadata": {},
   "source": [
    "To easily compare the performance of the variants over time, we suggest to look at the maximum potential loss per variant:"
   ]
  },
  {
   "cell_type": "code",
   "execution_count": 6,
   "metadata": {},
   "outputs": [
    {
     "data": {
      "image/png": "[encoded data removed]",
      "text/plain": [
       "<Figure size 431.625x720 with 2 Axes>"
      ]
     },
     "metadata": {
      "needs_background": "light"
     },
     "output_type": "display_data"
    }
   ],
   "source": [
    "e.monitor_plot();"
   ]
  },
  {
   "cell_type": "markdown",
   "metadata": {},
   "source": [
    "The plot shows the maximum potential loss over time; the dashed line is the maximum loss threshold set for the experiment (default: 0.05).\n",
    "\n",
    "As the experiment continues, we add more daily data:"
   ]
  },
  {
   "cell_type": "code",
   "execution_count": 7,
   "metadata": {},
   "outputs": [],
   "source": [
    "e.add_data(\"20190730\", [ 0,  0], [ 186,  180])\n",
    "e.add_data(\"20190731\", [ 7,  1], [ 714,  652])\n",
    "e.add_data(\"20190801\", [13,  5], [1233, 1141])\n",
    "e.add_data(\"20190802\", [15,  8], [1744, 1681])\n",
    "e.add_data(\"20190803\", [21, 13], [2304, 2146])\n",
    "e.add_data(\"20190804\", [26, 16], [2835, 2719])\n",
    "e.add_data(\"20190805\", [29, 20], [3275, 3260])\n",
    "e.add_data(\"20190806\", [36, 23], [3741, 3805])\n",
    "e.add_data(\"20190807\", [43, 26], [4343, 4354])\n",
    "e.add_data(\"20190808\", [51, 32], [4863, 4921])"
   ]
  },
  {
   "cell_type": "markdown",
   "metadata": {},
   "source": [
    "And we continue to investigate the result:"
   ]
  },
  {
   "cell_type": "code",
   "execution_count": 8,
   "metadata": {},
   "outputs": [
    {
     "data": {
      "image/png": "[encoded data removed]",
      "text/plain": [
       "<Figure size 431.625x720 with 2 Axes>"
      ]
     },
     "metadata": {
      "needs_background": "light"
     },
     "output_type": "display_data"
    }
   ],
   "source": [
    "e.monitor_plot();"
   ]
  },
  {
   "cell_type": "markdown",
   "metadata": {},
   "source": [
    "In this example, the loss of the 'apollo' variant is below the threshold after a few days and continues to stay below. We decide to stop an experiment with a result if a variant is below the threshold for a consecutive number of days:"
   ]
  },
  {
   "cell_type": "code",
   "execution_count": 9,
   "metadata": {},
   "outputs": [
    {
     "data": {
      "text/html": [
       "<div>\n",
       "<style scoped>\n",
       "    .dataframe tbody tr th:only-of-type {\n",
       "        vertical-align: middle;\n",
       "    }\n",
       "\n",
       "    .dataframe tbody tr th {\n",
       "        vertical-align: top;\n",
       "    }\n",
       "\n",
       "    .dataframe thead th {\n",
       "        text-align: right;\n",
       "    }\n",
       "</style>\n",
       "<table border=\"1\" class=\"dataframe\">\n",
       "  <thead>\n",
       "    <tr style=\"text-align: right;\">\n",
       "      <th></th>\n",
       "      <th>Timestamp</th>\n",
       "      <th>Loss apollo</th>\n",
       "      <th>Loss gemini</th>\n",
       "      <th>Runs apollo</th>\n",
       "      <th>Runs gemini</th>\n",
       "      <th>Max loss apollo</th>\n",
       "      <th>Max loss gemini</th>\n",
       "      <th>Stop apollo</th>\n",
       "      <th>Stop gemini</th>\n",
       "    </tr>\n",
       "  </thead>\n",
       "  <tbody>\n",
       "    <tr>\n",
       "      <th>0</th>\n",
       "      <td>20190730</td>\n",
       "      <td>47.371997</td>\n",
       "      <td>52.112256</td>\n",
       "      <td>NaN</td>\n",
       "      <td>NaN</td>\n",
       "      <td>NaN</td>\n",
       "      <td>NaN</td>\n",
       "      <td>False</td>\n",
       "      <td>False</td>\n",
       "    </tr>\n",
       "    <tr>\n",
       "      <th>1</th>\n",
       "      <td>20190731</td>\n",
       "      <td>1.100149</td>\n",
       "      <td>75.801753</td>\n",
       "      <td>NaN</td>\n",
       "      <td>NaN</td>\n",
       "      <td>NaN</td>\n",
       "      <td>NaN</td>\n",
       "      <td>False</td>\n",
       "      <td>False</td>\n",
       "    </tr>\n",
       "    <tr>\n",
       "      <th>2</th>\n",
       "      <td>20190801</td>\n",
       "      <td>0.725506</td>\n",
       "      <td>59.316241</td>\n",
       "      <td>NaN</td>\n",
       "      <td>NaN</td>\n",
       "      <td>NaN</td>\n",
       "      <td>NaN</td>\n",
       "      <td>False</td>\n",
       "      <td>False</td>\n",
       "    </tr>\n",
       "    <tr>\n",
       "      <th>3</th>\n",
       "      <td>20190802</td>\n",
       "      <td>1.247593</td>\n",
       "      <td>48.825425</td>\n",
       "      <td>NaN</td>\n",
       "      <td>NaN</td>\n",
       "      <td>NaN</td>\n",
       "      <td>NaN</td>\n",
       "      <td>False</td>\n",
       "      <td>False</td>\n",
       "    </tr>\n",
       "    <tr>\n",
       "      <th>4</th>\n",
       "      <td>20190803</td>\n",
       "      <td>1.236870</td>\n",
       "      <td>40.108860</td>\n",
       "      <td>4.0</td>\n",
       "      <td>0.0</td>\n",
       "      <td>47.371997</td>\n",
       "      <td>75.801753</td>\n",
       "      <td>False</td>\n",
       "      <td>False</td>\n",
       "    </tr>\n",
       "    <tr>\n",
       "      <th>5</th>\n",
       "      <td>20190804</td>\n",
       "      <td>0.598419</td>\n",
       "      <td>41.816889</td>\n",
       "      <td>5.0</td>\n",
       "      <td>0.0</td>\n",
       "      <td>1.247593</td>\n",
       "      <td>75.801753</td>\n",
       "      <td>True</td>\n",
       "      <td>False</td>\n",
       "    </tr>\n",
       "    <tr>\n",
       "      <th>6</th>\n",
       "      <td>20190805</td>\n",
       "      <td>0.711514</td>\n",
       "      <td>37.946469</td>\n",
       "      <td>5.0</td>\n",
       "      <td>0.0</td>\n",
       "      <td>1.247593</td>\n",
       "      <td>59.316241</td>\n",
       "      <td>True</td>\n",
       "      <td>False</td>\n",
       "    </tr>\n",
       "    <tr>\n",
       "      <th>7</th>\n",
       "      <td>20190806</td>\n",
       "      <td>0.160652</td>\n",
       "      <td>43.414439</td>\n",
       "      <td>5.0</td>\n",
       "      <td>0.0</td>\n",
       "      <td>1.247593</td>\n",
       "      <td>48.825425</td>\n",
       "      <td>True</td>\n",
       "      <td>False</td>\n",
       "    </tr>\n",
       "    <tr>\n",
       "      <th>8</th>\n",
       "      <td>20190807</td>\n",
       "      <td>0.055658</td>\n",
       "      <td>45.746361</td>\n",
       "      <td>5.0</td>\n",
       "      <td>0.0</td>\n",
       "      <td>1.236870</td>\n",
       "      <td>45.746361</td>\n",
       "      <td>True</td>\n",
       "      <td>False</td>\n",
       "    </tr>\n",
       "    <tr>\n",
       "      <th>9</th>\n",
       "      <td>20190808</td>\n",
       "      <td>0.038772</td>\n",
       "      <td>44.225703</td>\n",
       "      <td>5.0</td>\n",
       "      <td>0.0</td>\n",
       "      <td>0.711514</td>\n",
       "      <td>45.746361</td>\n",
       "      <td>True</td>\n",
       "      <td>False</td>\n",
       "    </tr>\n",
       "  </tbody>\n",
       "</table>\n",
       "</div>"
      ],
      "text/plain": [
       "  Timestamp  Loss apollo  Loss gemini  Runs apollo  Runs gemini  \\\n",
       "0  20190730    47.371997    52.112256          NaN          NaN   \n",
       "1  20190731     1.100149    75.801753          NaN          NaN   \n",
       "2  20190801     0.725506    59.316241          NaN          NaN   \n",
       "3  20190802     1.247593    48.825425          NaN          NaN   \n",
       "4  20190803     1.236870    40.108860          4.0          0.0   \n",
       "5  20190804     0.598419    41.816889          5.0          0.0   \n",
       "6  20190805     0.711514    37.946469          5.0          0.0   \n",
       "7  20190806     0.160652    43.414439          5.0          0.0   \n",
       "8  20190807     0.055658    45.746361          5.0          0.0   \n",
       "9  20190808     0.038772    44.225703          5.0          0.0   \n",
       "\n",
       "   Max loss apollo  Max loss gemini  Stop apollo  Stop gemini  \n",
       "0              NaN              NaN        False        False  \n",
       "1              NaN              NaN        False        False  \n",
       "2              NaN              NaN        False        False  \n",
       "3              NaN              NaN        False        False  \n",
       "4        47.371997        75.801753        False        False  \n",
       "5         1.247593        75.801753         True        False  \n",
       "6         1.247593        59.316241         True        False  \n",
       "7         1.247593        48.825425         True        False  \n",
       "8         1.236870        45.746361         True        False  \n",
       "9         0.711514        45.746361         True        False  "
      ]
     },
     "execution_count": 9,
     "metadata": {},
     "output_type": "execute_result"
    }
   ],
   "source": [
    "e.monitor_decision(days=5)"
   ]
  },
  {
   "cell_type": "markdown",
   "metadata": {},
   "source": [
    "Following this rule, we could have stopped the experiment already on `2019-08-04`. We can access the last model of the experiment and do the same analysis as already shown in the other example notebooks:"
   ]
  },
  {
   "cell_type": "code",
   "execution_count": 10,
   "metadata": {},
   "outputs": [
    {
     "data": {
      "text/html": [
       "<div>\n",
       "<style scoped>\n",
       "    .dataframe tbody tr th:only-of-type {\n",
       "        vertical-align: middle;\n",
       "    }\n",
       "\n",
       "    .dataframe tbody tr th {\n",
       "        vertical-align: top;\n",
       "    }\n",
       "\n",
       "    .dataframe thead th {\n",
       "        text-align: right;\n",
       "    }\n",
       "</style>\n",
       "<table border=\"1\" class=\"dataframe\">\n",
       "  <thead>\n",
       "    <tr style=\"text-align: right;\">\n",
       "      <th></th>\n",
       "      <th>Variant</th>\n",
       "      <th>Measure</th>\n",
       "      <th>ProbabilityToBeBest</th>\n",
       "      <th>ProbabilityToBeatBaseline</th>\n",
       "      <th>UpliftFromBaseline</th>\n",
       "      <th>PotentialLossFromBaseline</th>\n",
       "      <th>MaxUplift</th>\n",
       "      <th>MaxPotentialLoss</th>\n",
       "    </tr>\n",
       "  </thead>\n",
       "  <tbody>\n",
       "    <tr>\n",
       "      <th>0</th>\n",
       "      <td>apollo</td>\n",
       "      <td>revenue</td>\n",
       "      <td>0.99610</td>\n",
       "      <td>0.00000</td>\n",
       "      <td>0.000000</td>\n",
       "      <td>0.000000</td>\n",
       "      <td>80.080602</td>\n",
       "      <td>0.033679</td>\n",
       "    </tr>\n",
       "    <tr>\n",
       "      <th>1</th>\n",
       "      <td>apollo</td>\n",
       "      <td>conversion</td>\n",
       "      <td>0.98365</td>\n",
       "      <td>0.00000</td>\n",
       "      <td>0.000000</td>\n",
       "      <td>0.000000</td>\n",
       "      <td>59.292917</td>\n",
       "      <td>0.171011</td>\n",
       "    </tr>\n",
       "    <tr>\n",
       "      <th>2</th>\n",
       "      <td>gemini</td>\n",
       "      <td>conversion</td>\n",
       "      <td>0.01635</td>\n",
       "      <td>0.01725</td>\n",
       "      <td>-37.231174</td>\n",
       "      <td>37.483525</td>\n",
       "      <td>-37.222570</td>\n",
       "      <td>37.225567</td>\n",
       "    </tr>\n",
       "    <tr>\n",
       "      <th>3</th>\n",
       "      <td>gemini</td>\n",
       "      <td>revenue</td>\n",
       "      <td>0.00390</td>\n",
       "      <td>0.00280</td>\n",
       "      <td>-44.275360</td>\n",
       "      <td>44.184508</td>\n",
       "      <td>-44.469310</td>\n",
       "      <td>44.235793</td>\n",
       "    </tr>\n",
       "  </tbody>\n",
       "</table>\n",
       "</div>"
      ],
      "text/plain": [
       "  Variant     Measure  ProbabilityToBeBest  ProbabilityToBeatBaseline  \\\n",
       "0  apollo     revenue              0.99610                    0.00000   \n",
       "1  apollo  conversion              0.98365                    0.00000   \n",
       "2  gemini  conversion              0.01635                    0.01725   \n",
       "3  gemini     revenue              0.00390                    0.00280   \n",
       "\n",
       "   UpliftFromBaseline  PotentialLossFromBaseline  MaxUplift  MaxPotentialLoss  \n",
       "0            0.000000                   0.000000  80.080602          0.033679  \n",
       "1            0.000000                   0.000000  59.292917          0.171011  \n",
       "2          -37.231174                  37.483525 -37.222570         37.225567  \n",
       "3          -44.275360                  44.184508 -44.469310         44.235793  "
      ]
     },
     "execution_count": 10,
     "metadata": {},
     "output_type": "execute_result"
    }
   ],
   "source": [
    "e.result.score_baseline()"
   ]
  },
  {
   "cell_type": "code",
   "execution_count": 11,
   "metadata": {},
   "outputs": [
    {
     "data": {
      "image/png": "[encoded data removed]",
      "text/plain": [
       "<Figure size 432x288 with 1 Axes>"
      ]
     },
     "metadata": {
      "needs_background": "light"
     },
     "output_type": "display_data"
    },
    {
     "data": {
      "image/png": "[encoded data removed]",
      "text/plain": [
       "<Figure size 432x288 with 1 Axes>"
      ]
     },
     "metadata": {
      "needs_background": "light"
     },
     "output_type": "display_data"
    }
   ],
   "source": [
    "e.result.plot();"
   ]
  },
  {
   "cell_type": "code",
   "execution_count": 12,
   "metadata": {},
   "outputs": [
    {
     "data": {
      "text/html": [
       "<div>\n",
       "<style scoped>\n",
       "    .dataframe tbody tr th:only-of-type {\n",
       "        vertical-align: middle;\n",
       "    }\n",
       "\n",
       "    .dataframe tbody tr th {\n",
       "        vertical-align: top;\n",
       "    }\n",
       "\n",
       "    .dataframe thead th {\n",
       "        text-align: right;\n",
       "    }\n",
       "</style>\n",
       "<table border=\"1\" class=\"dataframe\">\n",
       "  <thead>\n",
       "    <tr style=\"text-align: right;\">\n",
       "      <th></th>\n",
       "      <th>Variant</th>\n",
       "      <th>Measure</th>\n",
       "      <th>ProbabilityToBeBest</th>\n",
       "      <th>ProbabilityToBeatBaseline</th>\n",
       "      <th>UpliftFromBaseline</th>\n",
       "      <th>PotentialLossFromBaseline</th>\n",
       "      <th>MaxUplift</th>\n",
       "      <th>MaxPotentialLoss</th>\n",
       "    </tr>\n",
       "  </thead>\n",
       "  <tbody>\n",
       "    <tr>\n",
       "      <th>0</th>\n",
       "      <td>apollo</td>\n",
       "      <td>revenue</td>\n",
       "      <td>0.99675</td>\n",
       "      <td>0.0</td>\n",
       "      <td>0.0</td>\n",
       "      <td>0.0</td>\n",
       "      <td>79.168611</td>\n",
       "      <td>0.035211</td>\n",
       "    </tr>\n",
       "  </tbody>\n",
       "</table>\n",
       "</div>"
      ],
      "text/plain": [
       "  Variant  Measure  ProbabilityToBeBest  ProbabilityToBeatBaseline  \\\n",
       "0  apollo  revenue              0.99675                        0.0   \n",
       "\n",
       "   UpliftFromBaseline  PotentialLossFromBaseline  MaxUplift  MaxPotentialLoss  \n",
       "0                 0.0                        0.0  79.168611          0.035211  "
      ]
     },
     "execution_count": 12,
     "metadata": {},
     "output_type": "execute_result"
    }
   ],
   "source": [
    "e.result.decision()"
   ]
  },
  {
   "cell_type": "markdown",
   "metadata": {},
   "source": [
    "Based on the primary measure defined for this experiment, we would go with the variant 'apollo'."
   ]
  }
 ],
 "metadata": {
  "kernelspec": {
   "display_name": "Python 3",
   "language": "python",
   "name": "python3"
  },
  "language_info": {
   "codemirror_mode": {
    "name": "ipython",
    "version": 3
   },
   "file_extension": ".py",
   "mimetype": "text/x-python",
   "name": "python",
   "nbconvert_exporter": "python",
   "pygments_lexer": "ipython3",
   "version": "3.7.6"
  }
 },
 "nbformat": 4,
 "nbformat_minor": 4
}
