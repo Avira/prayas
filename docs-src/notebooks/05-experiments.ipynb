{
 "cells": [
  {
   "cell_type": "markdown",
   "metadata": {},
   "source": [
    "# Experiments"
   ]
  },
  {
   "cell_type": "code",
   "execution_count": 1,
   "metadata": {},
   "outputs": [],
   "source": [
    "from prayas import *"
   ]
  },
  {
   "cell_type": "markdown",
   "metadata": {},
   "source": [
    "Experiments provide a simple way to continuously monitor the experiment performance and to decide when to stop based on the maximum potential loss of the variants. We first set up the experiment by defining the model, baseline, and measures of interest:"
   ]
  },
  {
   "cell_type": "code",
   "execution_count": 2,
   "metadata": {},
   "outputs": [],
   "source": [
    "e = Experiment(\"moonshot1\")\n",
    "\n",
    "e.setup = OneOptionModel([\"apollo\", \"gemini\"], baseline=\"apollo\")\n",
    "e.setup.add_measure(\"revenue\", [90, 80])\n",
    "e.setup.primary_measure = \"revenue\""
   ]
  },
  {
   "cell_type": "markdown",
   "metadata": {},
   "source": [
    "The specification of the experiment is:"
   ]
  },
  {
   "cell_type": "code",
   "execution_count": 3,
   "metadata": {},
   "outputs": [
    {
     "name": "stdout",
     "output_type": "stream",
     "text": [
      "Experiment with a One option model\n",
      "Variants              : apollo, gemini\n",
      "Baseline              : apollo\n",
      "Measures              : conversion, revenue\n",
      "Primary measure       : revenue\n",
      "Maximum loss threshold: 5            \n"
     ]
    }
   ],
   "source": [
    "print(e)"
   ]
  },
  {
   "cell_type": "markdown",
   "metadata": {},
   "source": [
    "Then we add the first daily data we collected:"
   ]
  },
  {
   "cell_type": "code",
   "execution_count": 4,
   "metadata": {},
   "outputs": [],
   "source": [
    "e.add_data(\"20190730\", [ 0,  0], [ 186,  180])\n",
    "e.add_data(\"20190731\", [ 7,  1], [ 714,  652])"
   ]
  },
  {
   "cell_type": "markdown",
   "metadata": {},
   "source": [
    "We can compute the daily scoring against the baseline:"
   ]
  },
  {
   "cell_type": "code",
   "execution_count": 5,
   "metadata": {},
   "outputs": [
    {
     "data": {
      "text/html": [
       "<div>\n",
       "<style scoped>\n",
       "    .dataframe tbody tr th:only-of-type {\n",
       "        vertical-align: middle;\n",
       "    }\n",
       "\n",
       "    .dataframe tbody tr th {\n",
       "        vertical-align: top;\n",
       "    }\n",
       "\n",
       "    .dataframe thead th {\n",
       "        text-align: right;\n",
       "    }\n",
       "</style>\n",
       "<table border=\"1\" class=\"dataframe\">\n",
       "  <thead>\n",
       "    <tr style=\"text-align: right;\">\n",
       "      <th></th>\n",
       "      <th>Date</th>\n",
       "      <th>Variant</th>\n",
       "      <th>Measure</th>\n",
       "      <th>ProbabilityToBeBest</th>\n",
       "      <th>ProbabilityToBeatBaseline</th>\n",
       "      <th>UpliftFromBaseline</th>\n",
       "      <th>PotentialLossFromBaseline</th>\n",
       "      <th>MaxUplift</th>\n",
       "      <th>MaxPotentialLoss</th>\n",
       "    </tr>\n",
       "  </thead>\n",
       "  <tbody>\n",
       "    <tr>\n",
       "      <th>0</th>\n",
       "      <td>20190730</td>\n",
       "      <td>apollo</td>\n",
       "      <td>revenue</td>\n",
       "      <td>0.52400</td>\n",
       "      <td>0.0000</td>\n",
       "      <td>0.000000</td>\n",
       "      <td>0.000000</td>\n",
       "      <td>9.784740</td>\n",
       "      <td>47.546597</td>\n",
       "    </tr>\n",
       "    <tr>\n",
       "      <th>1</th>\n",
       "      <td>20190730</td>\n",
       "      <td>gemini</td>\n",
       "      <td>conversion</td>\n",
       "      <td>0.50270</td>\n",
       "      <td>0.5119</td>\n",
       "      <td>3.599060</td>\n",
       "      <td>49.631761</td>\n",
       "      <td>2.128436</td>\n",
       "      <td>48.418039</td>\n",
       "    </tr>\n",
       "    <tr>\n",
       "      <th>2</th>\n",
       "      <td>20190730</td>\n",
       "      <td>apollo</td>\n",
       "      <td>conversion</td>\n",
       "      <td>0.49730</td>\n",
       "      <td>0.0000</td>\n",
       "      <td>0.000000</td>\n",
       "      <td>0.000000</td>\n",
       "      <td>-2.084078</td>\n",
       "      <td>50.932533</td>\n",
       "    </tr>\n",
       "    <tr>\n",
       "      <th>3</th>\n",
       "      <td>20190730</td>\n",
       "      <td>gemini</td>\n",
       "      <td>revenue</td>\n",
       "      <td>0.47600</td>\n",
       "      <td>0.4783</td>\n",
       "      <td>-7.189932</td>\n",
       "      <td>52.351470</td>\n",
       "      <td>-8.912659</td>\n",
       "      <td>52.510509</td>\n",
       "    </tr>\n",
       "    <tr>\n",
       "      <th>4</th>\n",
       "      <td>20190731</td>\n",
       "      <td>apollo</td>\n",
       "      <td>revenue</td>\n",
       "      <td>0.98215</td>\n",
       "      <td>0.0000</td>\n",
       "      <td>0.000000</td>\n",
       "      <td>0.000000</td>\n",
       "      <td>314.532699</td>\n",
       "      <td>0.888369</td>\n",
       "    </tr>\n",
       "    <tr>\n",
       "      <th>5</th>\n",
       "      <td>20190731</td>\n",
       "      <td>apollo</td>\n",
       "      <td>conversion</td>\n",
       "      <td>0.97250</td>\n",
       "      <td>0.0000</td>\n",
       "      <td>0.000000</td>\n",
       "      <td>0.000000</td>\n",
       "      <td>265.239365</td>\n",
       "      <td>1.642050</td>\n",
       "    </tr>\n",
       "    <tr>\n",
       "      <th>6</th>\n",
       "      <td>20190731</td>\n",
       "      <td>gemini</td>\n",
       "      <td>conversion</td>\n",
       "      <td>0.02750</td>\n",
       "      <td>0.0257</td>\n",
       "      <td>-72.822973</td>\n",
       "      <td>73.236028</td>\n",
       "      <td>-72.620695</td>\n",
       "      <td>72.950166</td>\n",
       "    </tr>\n",
       "    <tr>\n",
       "      <th>7</th>\n",
       "      <td>20190731</td>\n",
       "      <td>gemini</td>\n",
       "      <td>revenue</td>\n",
       "      <td>0.01785</td>\n",
       "      <td>0.0183</td>\n",
       "      <td>-75.656182</td>\n",
       "      <td>75.981442</td>\n",
       "      <td>-75.876451</td>\n",
       "      <td>75.889115</td>\n",
       "    </tr>\n",
       "  </tbody>\n",
       "</table>\n",
       "</div>"
      ],
      "text/plain": [
       "       Date Variant     Measure  ProbabilityToBeBest  \\\n",
       "0  20190730  apollo     revenue              0.52400   \n",
       "1  20190730  gemini  conversion              0.50270   \n",
       "2  20190730  apollo  conversion              0.49730   \n",
       "3  20190730  gemini     revenue              0.47600   \n",
       "4  20190731  apollo     revenue              0.98215   \n",
       "5  20190731  apollo  conversion              0.97250   \n",
       "6  20190731  gemini  conversion              0.02750   \n",
       "7  20190731  gemini     revenue              0.01785   \n",
       "\n",
       "   ProbabilityToBeatBaseline  UpliftFromBaseline  PotentialLossFromBaseline  \\\n",
       "0                     0.0000            0.000000                   0.000000   \n",
       "1                     0.5119            3.599060                  49.631761   \n",
       "2                     0.0000            0.000000                   0.000000   \n",
       "3                     0.4783           -7.189932                  52.351470   \n",
       "4                     0.0000            0.000000                   0.000000   \n",
       "5                     0.0000            0.000000                   0.000000   \n",
       "6                     0.0257          -72.822973                  73.236028   \n",
       "7                     0.0183          -75.656182                  75.981442   \n",
       "\n",
       "    MaxUplift  MaxPotentialLoss  \n",
       "0    9.784740         47.546597  \n",
       "1    2.128436         48.418039  \n",
       "2   -2.084078         50.932533  \n",
       "3   -8.912659         52.510509  \n",
       "4  314.532699          0.888369  \n",
       "5  265.239365          1.642050  \n",
       "6  -72.620695         72.950166  \n",
       "7  -75.876451         75.889115  "
      ]
     },
     "execution_count": 5,
     "metadata": {},
     "output_type": "execute_result"
    }
   ],
   "source": [
    "e.monitor_score_baseline()"
   ]
  },
  {
   "cell_type": "markdown",
   "metadata": {},
   "source": [
    "To easily compare the performance of the variants over time, we suggest to look at the maximum potential loss per variant:"
   ]
  },
  {
   "cell_type": "code",
   "execution_count": 6,
   "metadata": {},
   "outputs": [
    {
     "data": {
      "image/png": "[encoded data removed]",
      "text/plain": [
       "<Figure size 431.625x720 with 2 Axes>"
      ]
     },
     "metadata": {
      "needs_background": "light"
     },
     "output_type": "display_data"
    }
   ],
   "source": [
    "e.monitor_plot();"
   ]
  },
  {
   "cell_type": "markdown",
   "metadata": {},
   "source": [
    "The plot shows the maximum potential loss over time; the dashed line is the maximum loss threshold set for the experiment (default: 0.05).\n",
    "\n",
    "As the experiment continues, we add more daily data:"
   ]
  },
  {
   "cell_type": "code",
   "execution_count": 7,
   "metadata": {},
   "outputs": [],
   "source": [
    "e.add_data(\"20190730\", [ 0,  0], [ 186,  180])\n",
    "e.add_data(\"20190731\", [ 7,  1], [ 714,  652])\n",
    "e.add_data(\"20190801\", [13,  5], [1233, 1141])\n",
    "e.add_data(\"20190802\", [15,  8], [1744, 1681])\n",
    "e.add_data(\"20190803\", [21, 13], [2304, 2146])\n",
    "e.add_data(\"20190804\", [26, 16], [2835, 2719])\n",
    "e.add_data(\"20190805\", [29, 20], [3275, 3260])\n",
    "e.add_data(\"20190806\", [36, 23], [3741, 3805])\n",
    "e.add_data(\"20190807\", [43, 26], [4343, 4354])\n",
    "e.add_data(\"20190808\", [51, 32], [4863, 4921])"
   ]
  },
  {
   "cell_type": "markdown",
   "metadata": {},
   "source": [
    "And we continue to investigate the result:"
   ]
  },
  {
   "cell_type": "code",
   "execution_count": 8,
   "metadata": {},
   "outputs": [
    {
     "data": {
      "image/png": "[encoded data removed]",
      "text/plain": [
       "<Figure size 431.625x720 with 2 Axes>"
      ]
     },
     "metadata": {
      "needs_background": "light"
     },
     "output_type": "display_data"
    }
   ],
   "source": [
    "e.monitor_plot();"
   ]
  },
  {
   "cell_type": "markdown",
   "metadata": {},
   "source": [
    "In this example, the loss of the 'apollo' variant is below the threshold after a few days and continues to stay below. We decide to stop an experiment with a result if a variant is below the threshold for a consecutive number of days:"
   ]
  },
  {
   "cell_type": "code",
   "execution_count": 9,
   "metadata": {},
   "outputs": [
    {
     "data": {
      "text/html": [
       "<div>\n",
       "<style scoped>\n",
       "    .dataframe tbody tr th:only-of-type {\n",
       "        vertical-align: middle;\n",
       "    }\n",
       "\n",
       "    .dataframe tbody tr th {\n",
       "        vertical-align: top;\n",
       "    }\n",
       "\n",
       "    .dataframe thead th {\n",
       "        text-align: right;\n",
       "    }\n",
       "</style>\n",
       "<table border=\"1\" class=\"dataframe\">\n",
       "  <thead>\n",
       "    <tr style=\"text-align: right;\">\n",
       "      <th></th>\n",
       "      <th>Timestamp</th>\n",
       "      <th>Loss apollo</th>\n",
       "      <th>Loss gemini</th>\n",
       "      <th>Runs apollo</th>\n",
       "      <th>Runs gemini</th>\n",
       "      <th>Max loss apollo</th>\n",
       "      <th>Max loss gemini</th>\n",
       "      <th>Stop apollo</th>\n",
       "      <th>Stop gemini</th>\n",
       "    </tr>\n",
       "  </thead>\n",
       "  <tbody>\n",
       "    <tr>\n",
       "      <th>0</th>\n",
       "      <td>20190730</td>\n",
       "      <td>48.266853</td>\n",
       "      <td>51.491613</td>\n",
       "      <td>NaN</td>\n",
       "      <td>NaN</td>\n",
       "      <td>NaN</td>\n",
       "      <td>NaN</td>\n",
       "      <td>False</td>\n",
       "      <td>False</td>\n",
       "    </tr>\n",
       "    <tr>\n",
       "      <th>1</th>\n",
       "      <td>20190731</td>\n",
       "      <td>1.069647</td>\n",
       "      <td>75.996100</td>\n",
       "      <td>NaN</td>\n",
       "      <td>NaN</td>\n",
       "      <td>NaN</td>\n",
       "      <td>NaN</td>\n",
       "      <td>False</td>\n",
       "      <td>False</td>\n",
       "    </tr>\n",
       "    <tr>\n",
       "      <th>2</th>\n",
       "      <td>20190801</td>\n",
       "      <td>0.717000</td>\n",
       "      <td>59.209678</td>\n",
       "      <td>NaN</td>\n",
       "      <td>NaN</td>\n",
       "      <td>NaN</td>\n",
       "      <td>NaN</td>\n",
       "      <td>False</td>\n",
       "      <td>False</td>\n",
       "    </tr>\n",
       "    <tr>\n",
       "      <th>3</th>\n",
       "      <td>20190802</td>\n",
       "      <td>1.208869</td>\n",
       "      <td>48.692807</td>\n",
       "      <td>NaN</td>\n",
       "      <td>NaN</td>\n",
       "      <td>NaN</td>\n",
       "      <td>NaN</td>\n",
       "      <td>False</td>\n",
       "      <td>False</td>\n",
       "    </tr>\n",
       "    <tr>\n",
       "      <th>4</th>\n",
       "      <td>20190803</td>\n",
       "      <td>1.305198</td>\n",
       "      <td>40.086982</td>\n",
       "      <td>4.0</td>\n",
       "      <td>0.0</td>\n",
       "      <td>48.266853</td>\n",
       "      <td>75.996100</td>\n",
       "      <td>False</td>\n",
       "      <td>False</td>\n",
       "    </tr>\n",
       "    <tr>\n",
       "      <th>5</th>\n",
       "      <td>20190804</td>\n",
       "      <td>0.598810</td>\n",
       "      <td>42.075643</td>\n",
       "      <td>5.0</td>\n",
       "      <td>0.0</td>\n",
       "      <td>1.305198</td>\n",
       "      <td>75.996100</td>\n",
       "      <td>True</td>\n",
       "      <td>False</td>\n",
       "    </tr>\n",
       "    <tr>\n",
       "      <th>6</th>\n",
       "      <td>20190805</td>\n",
       "      <td>0.677079</td>\n",
       "      <td>37.922837</td>\n",
       "      <td>5.0</td>\n",
       "      <td>0.0</td>\n",
       "      <td>1.305198</td>\n",
       "      <td>59.209678</td>\n",
       "      <td>True</td>\n",
       "      <td>False</td>\n",
       "    </tr>\n",
       "    <tr>\n",
       "      <th>7</th>\n",
       "      <td>20190806</td>\n",
       "      <td>0.154403</td>\n",
       "      <td>43.471300</td>\n",
       "      <td>5.0</td>\n",
       "      <td>0.0</td>\n",
       "      <td>1.305198</td>\n",
       "      <td>48.692807</td>\n",
       "      <td>True</td>\n",
       "      <td>False</td>\n",
       "    </tr>\n",
       "    <tr>\n",
       "      <th>8</th>\n",
       "      <td>20190807</td>\n",
       "      <td>0.052977</td>\n",
       "      <td>45.669064</td>\n",
       "      <td>5.0</td>\n",
       "      <td>0.0</td>\n",
       "      <td>1.305198</td>\n",
       "      <td>45.669064</td>\n",
       "      <td>True</td>\n",
       "      <td>False</td>\n",
       "    </tr>\n",
       "    <tr>\n",
       "      <th>9</th>\n",
       "      <td>20190808</td>\n",
       "      <td>0.037551</td>\n",
       "      <td>44.192609</td>\n",
       "      <td>5.0</td>\n",
       "      <td>0.0</td>\n",
       "      <td>0.677079</td>\n",
       "      <td>45.669064</td>\n",
       "      <td>True</td>\n",
       "      <td>False</td>\n",
       "    </tr>\n",
       "  </tbody>\n",
       "</table>\n",
       "</div>"
      ],
      "text/plain": [
       "  Timestamp  Loss apollo  Loss gemini  Runs apollo  Runs gemini  \\\n",
       "0  20190730    48.266853    51.491613          NaN          NaN   \n",
       "1  20190731     1.069647    75.996100          NaN          NaN   \n",
       "2  20190801     0.717000    59.209678          NaN          NaN   \n",
       "3  20190802     1.208869    48.692807          NaN          NaN   \n",
       "4  20190803     1.305198    40.086982          4.0          0.0   \n",
       "5  20190804     0.598810    42.075643          5.0          0.0   \n",
       "6  20190805     0.677079    37.922837          5.0          0.0   \n",
       "7  20190806     0.154403    43.471300          5.0          0.0   \n",
       "8  20190807     0.052977    45.669064          5.0          0.0   \n",
       "9  20190808     0.037551    44.192609          5.0          0.0   \n",
       "\n",
       "   Max loss apollo  Max loss gemini  Stop apollo  Stop gemini  \n",
       "0              NaN              NaN        False        False  \n",
       "1              NaN              NaN        False        False  \n",
       "2              NaN              NaN        False        False  \n",
       "3              NaN              NaN        False        False  \n",
       "4        48.266853        75.996100        False        False  \n",
       "5         1.305198        75.996100         True        False  \n",
       "6         1.305198        59.209678         True        False  \n",
       "7         1.305198        48.692807         True        False  \n",
       "8         1.305198        45.669064         True        False  \n",
       "9         0.677079        45.669064         True        False  "
      ]
     },
     "execution_count": 9,
     "metadata": {},
     "output_type": "execute_result"
    }
   ],
   "source": [
    "e.monitor_decision(days=5)"
   ]
  },
  {
   "cell_type": "markdown",
   "metadata": {},
   "source": [
    "Following this rule, we could have stopped the experiment already on `2019-08-04`. We can access the last model of the experiment and do the same analysis as already shown in the other example notebooks:"
   ]
  },
  {
   "cell_type": "code",
   "execution_count": 10,
   "metadata": {},
   "outputs": [
    {
     "data": {
      "text/html": [
       "<div>\n",
       "<style scoped>\n",
       "    .dataframe tbody tr th:only-of-type {\n",
       "        vertical-align: middle;\n",
       "    }\n",
       "\n",
       "    .dataframe tbody tr th {\n",
       "        vertical-align: top;\n",
       "    }\n",
       "\n",
       "    .dataframe thead th {\n",
       "        text-align: right;\n",
       "    }\n",
       "</style>\n",
       "<table border=\"1\" class=\"dataframe\">\n",
       "  <thead>\n",
       "    <tr style=\"text-align: right;\">\n",
       "      <th></th>\n",
       "      <th>Variant</th>\n",
       "      <th>Measure</th>\n",
       "      <th>ProbabilityToBeBest</th>\n",
       "      <th>ProbabilityToBeatBaseline</th>\n",
       "      <th>UpliftFromBaseline</th>\n",
       "      <th>PotentialLossFromBaseline</th>\n",
       "      <th>MaxUplift</th>\n",
       "      <th>MaxPotentialLoss</th>\n",
       "    </tr>\n",
       "  </thead>\n",
       "  <tbody>\n",
       "    <tr>\n",
       "      <th>0</th>\n",
       "      <td>apollo</td>\n",
       "      <td>revenue</td>\n",
       "      <td>0.99670</td>\n",
       "      <td>0.00000</td>\n",
       "      <td>0.000000</td>\n",
       "      <td>0.000000</td>\n",
       "      <td>79.254505</td>\n",
       "      <td>0.037169</td>\n",
       "    </tr>\n",
       "    <tr>\n",
       "      <th>1</th>\n",
       "      <td>apollo</td>\n",
       "      <td>conversion</td>\n",
       "      <td>0.98365</td>\n",
       "      <td>0.00000</td>\n",
       "      <td>0.000000</td>\n",
       "      <td>0.000000</td>\n",
       "      <td>59.268571</td>\n",
       "      <td>0.186129</td>\n",
       "    </tr>\n",
       "    <tr>\n",
       "      <th>2</th>\n",
       "      <td>gemini</td>\n",
       "      <td>conversion</td>\n",
       "      <td>0.01635</td>\n",
       "      <td>0.01495</td>\n",
       "      <td>-37.287659</td>\n",
       "      <td>37.448505</td>\n",
       "      <td>-37.212973</td>\n",
       "      <td>37.387003</td>\n",
       "    </tr>\n",
       "    <tr>\n",
       "      <th>3</th>\n",
       "      <td>gemini</td>\n",
       "      <td>revenue</td>\n",
       "      <td>0.00330</td>\n",
       "      <td>0.00380</td>\n",
       "      <td>-44.270473</td>\n",
       "      <td>44.282816</td>\n",
       "      <td>-44.213397</td>\n",
       "      <td>44.089087</td>\n",
       "    </tr>\n",
       "  </tbody>\n",
       "</table>\n",
       "</div>"
      ],
      "text/plain": [
       "  Variant     Measure  ProbabilityToBeBest  ProbabilityToBeatBaseline  \\\n",
       "0  apollo     revenue              0.99670                    0.00000   \n",
       "1  apollo  conversion              0.98365                    0.00000   \n",
       "2  gemini  conversion              0.01635                    0.01495   \n",
       "3  gemini     revenue              0.00330                    0.00380   \n",
       "\n",
       "   UpliftFromBaseline  PotentialLossFromBaseline  MaxUplift  MaxPotentialLoss  \n",
       "0            0.000000                   0.000000  79.254505          0.037169  \n",
       "1            0.000000                   0.000000  59.268571          0.186129  \n",
       "2          -37.287659                  37.448505 -37.212973         37.387003  \n",
       "3          -44.270473                  44.282816 -44.213397         44.089087  "
      ]
     },
     "execution_count": 10,
     "metadata": {},
     "output_type": "execute_result"
    }
   ],
   "source": [
    "e.result.score_baseline()"
   ]
  },
  {
   "cell_type": "code",
   "execution_count": 11,
   "metadata": {},
   "outputs": [
    {
     "data": {
      "image/png": "[encoded data removed]",
      "text/plain": [
       "<Figure size 432x288 with 1 Axes>"
      ]
     },
     "metadata": {
      "needs_background": "light"
     },
     "output_type": "display_data"
    },
    {
     "data": {
      "image/png": "[encoded data removed]",
      "text/plain": [
       "<Figure size 432x288 with 1 Axes>"
      ]
     },
     "metadata": {
      "needs_background": "light"
     },
     "output_type": "display_data"
    }
   ],
   "source": [
    "e.result.plot();"
   ]
  },
  {
   "cell_type": "code",
   "execution_count": 12,
   "metadata": {},
   "outputs": [
    {
     "data": {
      "text/html": [
       "<div>\n",
       "<style scoped>\n",
       "    .dataframe tbody tr th:only-of-type {\n",
       "        vertical-align: middle;\n",
       "    }\n",
       "\n",
       "    .dataframe tbody tr th {\n",
       "        vertical-align: top;\n",
       "    }\n",
       "\n",
       "    .dataframe thead th {\n",
       "        text-align: right;\n",
       "    }\n",
       "</style>\n",
       "<table border=\"1\" class=\"dataframe\">\n",
       "  <thead>\n",
       "    <tr style=\"text-align: right;\">\n",
       "      <th></th>\n",
       "      <th>Variant</th>\n",
       "      <th>Measure</th>\n",
       "      <th>ProbabilityToBeBest</th>\n",
       "      <th>ProbabilityToBeatBaseline</th>\n",
       "      <th>UpliftFromBaseline</th>\n",
       "      <th>PotentialLossFromBaseline</th>\n",
       "      <th>MaxUplift</th>\n",
       "      <th>MaxPotentialLoss</th>\n",
       "    </tr>\n",
       "  </thead>\n",
       "  <tbody>\n",
       "    <tr>\n",
       "      <th>0</th>\n",
       "      <td>apollo</td>\n",
       "      <td>revenue</td>\n",
       "      <td>0.99595</td>\n",
       "      <td>0.0</td>\n",
       "      <td>0.0</td>\n",
       "      <td>0.0</td>\n",
       "      <td>79.510021</td>\n",
       "      <td>0.03168</td>\n",
       "    </tr>\n",
       "  </tbody>\n",
       "</table>\n",
       "</div>"
      ],
      "text/plain": [
       "  Variant  Measure  ProbabilityToBeBest  ProbabilityToBeatBaseline  \\\n",
       "0  apollo  revenue              0.99595                        0.0   \n",
       "\n",
       "   UpliftFromBaseline  PotentialLossFromBaseline  MaxUplift  MaxPotentialLoss  \n",
       "0                 0.0                        0.0  79.510021           0.03168  "
      ]
     },
     "execution_count": 12,
     "metadata": {},
     "output_type": "execute_result"
    }
   ],
   "source": [
    "e.result.decision()"
   ]
  },
  {
   "cell_type": "markdown",
   "metadata": {},
   "source": [
    "Based on the primary measure defined for this experiment, we would go with the variant 'apollo'."
   ]
  }
 ],
 "metadata": {
  "kernelspec": {
   "display_name": "Python 3",
   "language": "python",
   "name": "python3"
  },
  "language_info": {
   "codemirror_mode": {
    "name": "ipython",
    "version": 3
   },
   "file_extension": ".py",
   "mimetype": "text/x-python",
   "name": "python",
   "nbconvert_exporter": "python",
   "pygments_lexer": "ipython3",
   "version": "3.7.6"
  }
 },
 "nbformat": 4,
 "nbformat_minor": 4
}
