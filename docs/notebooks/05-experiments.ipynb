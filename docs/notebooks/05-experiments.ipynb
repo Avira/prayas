{
 "cells": [
  {
   "cell_type": "markdown",
   "metadata": {},
   "source": [
    "# Experiments"
   ]
  },
  {
   "cell_type": "code",
   "execution_count": 1,
   "metadata": {},
   "outputs": [],
   "source": [
    "from prayas import *"
   ]
  },
  {
   "cell_type": "markdown",
   "metadata": {},
   "source": [
    "Experiments provide a simple way to continuously monitor the experiment performance and to decide when to stop based on the maximum potential loss of the variants. We first set up the experiment by defining the model, baseline, and measures of interest:"
   ]
  },
  {
   "cell_type": "code",
   "execution_count": 2,
   "metadata": {},
   "outputs": [],
   "source": [
    "e = Experiment(\"moonshot1\")\n",
    "\n",
    "e.setup = OneOptionModel([\"apollo\", \"gemini\"], baseline=\"apollo\")\n",
    "e.setup.add_measure(\"revenue\", [90, 80])\n",
    "e.setup.primary_measure = \"revenue\""
   ]
  },
  {
   "cell_type": "markdown",
   "metadata": {},
   "source": [
    "The specification of the experiment is:"
   ]
  },
  {
   "cell_type": "code",
   "execution_count": 3,
   "metadata": {},
   "outputs": [
    {
     "name": "stdout",
     "output_type": "stream",
     "text": [
      "Experiment with a One option model\n",
      "Variants              : apollo, gemini\n",
      "Baseline              : apollo\n",
      "Measures              : conversion, revenue\n",
      "Primary measure       : revenue\n",
      "Maximum loss threshold: 0.05            \n"
     ]
    }
   ],
   "source": [
    "print(e)"
   ]
  },
  {
   "cell_type": "markdown",
   "metadata": {},
   "source": [
    "Then we add the first daily data we collected:"
   ]
  },
  {
   "cell_type": "code",
   "execution_count": 4,
   "metadata": {},
   "outputs": [],
   "source": [
    "e.add_data(\"20190730\", [ 0,  0], [ 186,  180])\n",
    "e.add_data(\"20190731\", [ 7,  1], [ 714,  652])"
   ]
  },
  {
   "cell_type": "markdown",
   "metadata": {},
   "source": [
    "We can compute the daily scoring against the baseline:"
   ]
  },
  {
   "cell_type": "code",
   "execution_count": 5,
   "metadata": {},
   "outputs": [
    {
     "data": {
      "text/html": [
       "<div>\n",
       "<style scoped>\n",
       "    .dataframe tbody tr th:only-of-type {\n",
       "        vertical-align: middle;\n",
       "    }\n",
       "\n",
       "    .dataframe tbody tr th {\n",
       "        vertical-align: top;\n",
       "    }\n",
       "\n",
       "    .dataframe thead th {\n",
       "        text-align: right;\n",
       "    }\n",
       "</style>\n",
       "<table border=\"1\" class=\"dataframe\">\n",
       "  <thead>\n",
       "    <tr style=\"text-align: right;\">\n",
       "      <th></th>\n",
       "      <th>Date</th>\n",
       "      <th>Variant</th>\n",
       "      <th>Measure</th>\n",
       "      <th>ProbabilityToBeBest</th>\n",
       "      <th>ProbabilityToBeatBaseline</th>\n",
       "      <th>UpliftFromBaseline</th>\n",
       "      <th>PotentialLossFromBaseline</th>\n",
       "      <th>MaxUplift</th>\n",
       "      <th>MaxPotentialLoss</th>\n",
       "    </tr>\n",
       "  </thead>\n",
       "  <tbody>\n",
       "    <tr>\n",
       "      <th>0</th>\n",
       "      <td>20190730</td>\n",
       "      <td>apollo</td>\n",
       "      <td>revenue</td>\n",
       "      <td>0.52115</td>\n",
       "      <td>0.00000</td>\n",
       "      <td>0.000000</td>\n",
       "      <td>0.000000</td>\n",
       "      <td>8.907531</td>\n",
       "      <td>47.605960</td>\n",
       "    </tr>\n",
       "    <tr>\n",
       "      <th>1</th>\n",
       "      <td>20190730</td>\n",
       "      <td>gemini</td>\n",
       "      <td>conversion</td>\n",
       "      <td>0.51015</td>\n",
       "      <td>0.51165</td>\n",
       "      <td>2.520760</td>\n",
       "      <td>48.816944</td>\n",
       "      <td>1.745930</td>\n",
       "      <td>49.233941</td>\n",
       "    </tr>\n",
       "    <tr>\n",
       "      <th>2</th>\n",
       "      <td>20190730</td>\n",
       "      <td>apollo</td>\n",
       "      <td>conversion</td>\n",
       "      <td>0.48985</td>\n",
       "      <td>0.00000</td>\n",
       "      <td>0.000000</td>\n",
       "      <td>0.000000</td>\n",
       "      <td>-1.715971</td>\n",
       "      <td>51.024891</td>\n",
       "    </tr>\n",
       "    <tr>\n",
       "      <th>3</th>\n",
       "      <td>20190730</td>\n",
       "      <td>gemini</td>\n",
       "      <td>revenue</td>\n",
       "      <td>0.47885</td>\n",
       "      <td>0.47550</td>\n",
       "      <td>-8.954422</td>\n",
       "      <td>51.797862</td>\n",
       "      <td>-8.178985</td>\n",
       "      <td>52.407787</td>\n",
       "    </tr>\n",
       "    <tr>\n",
       "      <th>4</th>\n",
       "      <td>20190731</td>\n",
       "      <td>apollo</td>\n",
       "      <td>revenue</td>\n",
       "      <td>0.98170</td>\n",
       "      <td>0.00000</td>\n",
       "      <td>0.000000</td>\n",
       "      <td>0.000000</td>\n",
       "      <td>316.529777</td>\n",
       "      <td>1.074573</td>\n",
       "    </tr>\n",
       "    <tr>\n",
       "      <th>5</th>\n",
       "      <td>20190731</td>\n",
       "      <td>apollo</td>\n",
       "      <td>conversion</td>\n",
       "      <td>0.97175</td>\n",
       "      <td>0.00000</td>\n",
       "      <td>0.000000</td>\n",
       "      <td>0.000000</td>\n",
       "      <td>267.747155</td>\n",
       "      <td>1.518069</td>\n",
       "    </tr>\n",
       "    <tr>\n",
       "      <th>6</th>\n",
       "      <td>20190731</td>\n",
       "      <td>gemini</td>\n",
       "      <td>conversion</td>\n",
       "      <td>0.02825</td>\n",
       "      <td>0.02625</td>\n",
       "      <td>-72.482875</td>\n",
       "      <td>72.989301</td>\n",
       "      <td>-72.807404</td>\n",
       "      <td>73.056595</td>\n",
       "    </tr>\n",
       "    <tr>\n",
       "      <th>7</th>\n",
       "      <td>20190731</td>\n",
       "      <td>gemini</td>\n",
       "      <td>revenue</td>\n",
       "      <td>0.01830</td>\n",
       "      <td>0.01840</td>\n",
       "      <td>-75.806290</td>\n",
       "      <td>75.939597</td>\n",
       "      <td>-75.992113</td>\n",
       "      <td>75.990584</td>\n",
       "    </tr>\n",
       "  </tbody>\n",
       "</table>\n",
       "</div>"
      ],
      "text/plain": [
       "       Date Variant     Measure  ProbabilityToBeBest  \\\n",
       "0  20190730  apollo     revenue              0.52115   \n",
       "1  20190730  gemini  conversion              0.51015   \n",
       "2  20190730  apollo  conversion              0.48985   \n",
       "3  20190730  gemini     revenue              0.47885   \n",
       "4  20190731  apollo     revenue              0.98170   \n",
       "5  20190731  apollo  conversion              0.97175   \n",
       "6  20190731  gemini  conversion              0.02825   \n",
       "7  20190731  gemini     revenue              0.01830   \n",
       "\n",
       "   ProbabilityToBeatBaseline  UpliftFromBaseline  PotentialLossFromBaseline  \\\n",
       "0                    0.00000            0.000000                   0.000000   \n",
       "1                    0.51165            2.520760                  48.816944   \n",
       "2                    0.00000            0.000000                   0.000000   \n",
       "3                    0.47550           -8.954422                  51.797862   \n",
       "4                    0.00000            0.000000                   0.000000   \n",
       "5                    0.00000            0.000000                   0.000000   \n",
       "6                    0.02625          -72.482875                  72.989301   \n",
       "7                    0.01840          -75.806290                  75.939597   \n",
       "\n",
       "    MaxUplift  MaxPotentialLoss  \n",
       "0    8.907531         47.605960  \n",
       "1    1.745930         49.233941  \n",
       "2   -1.715971         51.024891  \n",
       "3   -8.178985         52.407787  \n",
       "4  316.529777          1.074573  \n",
       "5  267.747155          1.518069  \n",
       "6  -72.807404         73.056595  \n",
       "7  -75.992113         75.990584  "
      ]
     },
     "execution_count": 5,
     "metadata": {},
     "output_type": "execute_result"
    }
   ],
   "source": [
    "e.monitor_score_baseline()"
   ]
  },
  {
   "cell_type": "markdown",
   "metadata": {},
   "source": [
    "To easily compare the performance of the variants over time, we suggest to look at the maximum potential loss per variant:"
   ]
  },
  {
   "cell_type": "code",
   "execution_count": 6,
   "metadata": {},
   "outputs": [
    {
     "data": {
      "text/plain": [
       "<seaborn.axisgrid.FacetGrid at 0x11769a5d0>"
      ]
     },
     "execution_count": 6,
     "metadata": {},
     "output_type": "execute_result"
    },
    {
     "data": {
      "image/png": "[encoded data removed]",
      "text/plain": [
       "<Figure size 431.625x720 with 2 Axes>"
      ]
     },
     "metadata": {
      "needs_background": "light"
     },
     "output_type": "display_data"
    }
   ],
   "source": [
    "e.monitor_plot()"
   ]
  },
  {
   "cell_type": "markdown",
   "metadata": {},
   "source": [
    "The plot shows the maximum potential loss over time; the dashed line is the maximum loss threshold set for the experiment (default: 0.05).\n",
    "\n",
    "As the experiment continues, we add more daily data:"
   ]
  },
  {
   "cell_type": "code",
   "execution_count": 7,
   "metadata": {},
   "outputs": [],
   "source": [
    "e.add_data(\"20190730\", [ 0,  0], [ 186,  180])\n",
    "e.add_data(\"20190731\", [ 7,  1], [ 714,  652])\n",
    "e.add_data(\"20190801\", [13,  5], [1233, 1141])\n",
    "e.add_data(\"20190802\", [15,  8], [1744, 1681])\n",
    "e.add_data(\"20190803\", [21, 13], [2304, 2146])\n",
    "e.add_data(\"20190804\", [26, 16], [2835, 2719])\n",
    "e.add_data(\"20190805\", [29, 20], [3275, 3260])\n",
    "e.add_data(\"20190806\", [36, 23], [3741, 3805])\n",
    "e.add_data(\"20190807\", [43, 26], [4343, 4354])\n",
    "e.add_data(\"20190808\", [51, 32], [4863, 4921])"
   ]
  },
  {
   "cell_type": "markdown",
   "metadata": {},
   "source": [
    "And we continue to investigate the result:"
   ]
  },
  {
   "cell_type": "code",
   "execution_count": 8,
   "metadata": {},
   "outputs": [
    {
     "data": {
      "text/plain": [
       "<seaborn.axisgrid.FacetGrid at 0x11a156850>"
      ]
     },
     "execution_count": 8,
     "metadata": {},
     "output_type": "execute_result"
    },
    {
     "data": {
      "image/png": "[encoded data removed]",
      "text/plain": [
       "<Figure size 431.625x720 with 2 Axes>"
      ]
     },
     "metadata": {
      "needs_background": "light"
     },
     "output_type": "display_data"
    }
   ],
   "source": [
    "e.monitor_plot()"
   ]
  },
  {
   "cell_type": "markdown",
   "metadata": {},
   "source": [
    "In this example, the loss of the 'apollo' variant is below the threshold after a few days and continues to stay below. We decide to stop an experiment with a result if a variant is below the threshold for a consecutive number of days:"
   ]
  },
  {
   "cell_type": "code",
   "execution_count": 9,
   "metadata": {},
   "outputs": [
    {
     "data": {
      "text/html": [
       "<div>\n",
       "<style scoped>\n",
       "    .dataframe tbody tr th:only-of-type {\n",
       "        vertical-align: middle;\n",
       "    }\n",
       "\n",
       "    .dataframe tbody tr th {\n",
       "        vertical-align: top;\n",
       "    }\n",
       "\n",
       "    .dataframe thead th {\n",
       "        text-align: right;\n",
       "    }\n",
       "</style>\n",
       "<table border=\"1\" class=\"dataframe\">\n",
       "  <thead>\n",
       "    <tr style=\"text-align: right;\">\n",
       "      <th></th>\n",
       "      <th>Timestamp</th>\n",
       "      <th>Loss apollo</th>\n",
       "      <th>Loss gemini</th>\n",
       "      <th>Runs apollo</th>\n",
       "      <th>Runs gemini</th>\n",
       "      <th>Max loss apollo</th>\n",
       "      <th>Max loss gemini</th>\n",
       "      <th>Stop apollo</th>\n",
       "      <th>Stop gemini</th>\n",
       "    </tr>\n",
       "  </thead>\n",
       "  <tbody>\n",
       "    <tr>\n",
       "      <th>0</th>\n",
       "      <td>20190730</td>\n",
       "      <td>0.480882</td>\n",
       "      <td>0.521753</td>\n",
       "      <td>NaN</td>\n",
       "      <td>NaN</td>\n",
       "      <td>NaN</td>\n",
       "      <td>NaN</td>\n",
       "      <td>False</td>\n",
       "      <td>False</td>\n",
       "    </tr>\n",
       "    <tr>\n",
       "      <th>1</th>\n",
       "      <td>20190731</td>\n",
       "      <td>0.009375</td>\n",
       "      <td>0.759418</td>\n",
       "      <td>NaN</td>\n",
       "      <td>NaN</td>\n",
       "      <td>NaN</td>\n",
       "      <td>NaN</td>\n",
       "      <td>False</td>\n",
       "      <td>False</td>\n",
       "    </tr>\n",
       "    <tr>\n",
       "      <th>2</th>\n",
       "      <td>20190801</td>\n",
       "      <td>0.007157</td>\n",
       "      <td>0.592048</td>\n",
       "      <td>NaN</td>\n",
       "      <td>NaN</td>\n",
       "      <td>NaN</td>\n",
       "      <td>NaN</td>\n",
       "      <td>False</td>\n",
       "      <td>False</td>\n",
       "    </tr>\n",
       "    <tr>\n",
       "      <th>3</th>\n",
       "      <td>20190802</td>\n",
       "      <td>0.012995</td>\n",
       "      <td>0.487835</td>\n",
       "      <td>NaN</td>\n",
       "      <td>NaN</td>\n",
       "      <td>NaN</td>\n",
       "      <td>NaN</td>\n",
       "      <td>False</td>\n",
       "      <td>False</td>\n",
       "    </tr>\n",
       "    <tr>\n",
       "      <th>4</th>\n",
       "      <td>20190803</td>\n",
       "      <td>0.013089</td>\n",
       "      <td>0.402300</td>\n",
       "      <td>4.0</td>\n",
       "      <td>0.0</td>\n",
       "      <td>0.480882</td>\n",
       "      <td>0.759418</td>\n",
       "      <td>False</td>\n",
       "      <td>False</td>\n",
       "    </tr>\n",
       "    <tr>\n",
       "      <th>5</th>\n",
       "      <td>20190804</td>\n",
       "      <td>0.006073</td>\n",
       "      <td>0.419414</td>\n",
       "      <td>5.0</td>\n",
       "      <td>0.0</td>\n",
       "      <td>0.013089</td>\n",
       "      <td>0.759418</td>\n",
       "      <td>True</td>\n",
       "      <td>False</td>\n",
       "    </tr>\n",
       "    <tr>\n",
       "      <th>6</th>\n",
       "      <td>20190805</td>\n",
       "      <td>0.007073</td>\n",
       "      <td>0.379493</td>\n",
       "      <td>5.0</td>\n",
       "      <td>0.0</td>\n",
       "      <td>0.013089</td>\n",
       "      <td>0.592048</td>\n",
       "      <td>True</td>\n",
       "      <td>False</td>\n",
       "    </tr>\n",
       "    <tr>\n",
       "      <th>7</th>\n",
       "      <td>20190806</td>\n",
       "      <td>0.001480</td>\n",
       "      <td>0.434431</td>\n",
       "      <td>5.0</td>\n",
       "      <td>0.0</td>\n",
       "      <td>0.013089</td>\n",
       "      <td>0.487835</td>\n",
       "      <td>True</td>\n",
       "      <td>False</td>\n",
       "    </tr>\n",
       "    <tr>\n",
       "      <th>8</th>\n",
       "      <td>20190807</td>\n",
       "      <td>0.000552</td>\n",
       "      <td>0.455927</td>\n",
       "      <td>5.0</td>\n",
       "      <td>0.0</td>\n",
       "      <td>0.013089</td>\n",
       "      <td>0.455927</td>\n",
       "      <td>True</td>\n",
       "      <td>False</td>\n",
       "    </tr>\n",
       "    <tr>\n",
       "      <th>9</th>\n",
       "      <td>20190808</td>\n",
       "      <td>0.000472</td>\n",
       "      <td>0.442077</td>\n",
       "      <td>5.0</td>\n",
       "      <td>0.0</td>\n",
       "      <td>0.007073</td>\n",
       "      <td>0.455927</td>\n",
       "      <td>True</td>\n",
       "      <td>False</td>\n",
       "    </tr>\n",
       "  </tbody>\n",
       "</table>\n",
       "</div>"
      ],
      "text/plain": [
       "  Timestamp  Loss apollo  Loss gemini  Runs apollo  Runs gemini  \\\n",
       "0  20190730     0.480882     0.521753          NaN          NaN   \n",
       "1  20190731     0.009375     0.759418          NaN          NaN   \n",
       "2  20190801     0.007157     0.592048          NaN          NaN   \n",
       "3  20190802     0.012995     0.487835          NaN          NaN   \n",
       "4  20190803     0.013089     0.402300          4.0          0.0   \n",
       "5  20190804     0.006073     0.419414          5.0          0.0   \n",
       "6  20190805     0.007073     0.379493          5.0          0.0   \n",
       "7  20190806     0.001480     0.434431          5.0          0.0   \n",
       "8  20190807     0.000552     0.455927          5.0          0.0   \n",
       "9  20190808     0.000472     0.442077          5.0          0.0   \n",
       "\n",
       "   Max loss apollo  Max loss gemini  Stop apollo  Stop gemini  \n",
       "0              NaN              NaN        False        False  \n",
       "1              NaN              NaN        False        False  \n",
       "2              NaN              NaN        False        False  \n",
       "3              NaN              NaN        False        False  \n",
       "4         0.480882         0.759418        False        False  \n",
       "5         0.013089         0.759418         True        False  \n",
       "6         0.013089         0.592048         True        False  \n",
       "7         0.013089         0.487835         True        False  \n",
       "8         0.013089         0.455927         True        False  \n",
       "9         0.007073         0.455927         True        False  "
      ]
     },
     "execution_count": 9,
     "metadata": {},
     "output_type": "execute_result"
    }
   ],
   "source": [
    "e.monitor_decision(days=5)"
   ]
  },
  {
   "cell_type": "markdown",
   "metadata": {},
   "source": [
    "Following this rule, we could have stopped the experiment already on `2019-08-04`. We can access the last model of the experiment and do the same analysis as already shown in the other example notebooks:"
   ]
  },
  {
   "cell_type": "code",
   "execution_count": 10,
   "metadata": {},
   "outputs": [
    {
     "data": {
      "text/html": [
       "<div>\n",
       "<style scoped>\n",
       "    .dataframe tbody tr th:only-of-type {\n",
       "        vertical-align: middle;\n",
       "    }\n",
       "\n",
       "    .dataframe tbody tr th {\n",
       "        vertical-align: top;\n",
       "    }\n",
       "\n",
       "    .dataframe thead th {\n",
       "        text-align: right;\n",
       "    }\n",
       "</style>\n",
       "<table border=\"1\" class=\"dataframe\">\n",
       "  <thead>\n",
       "    <tr style=\"text-align: right;\">\n",
       "      <th></th>\n",
       "      <th>Variant</th>\n",
       "      <th>Measure</th>\n",
       "      <th>ProbabilityToBeBest</th>\n",
       "      <th>ProbabilityToBeatBaseline</th>\n",
       "      <th>UpliftFromBaseline</th>\n",
       "      <th>PotentialLossFromBaseline</th>\n",
       "      <th>MaxUplift</th>\n",
       "      <th>MaxPotentialLoss</th>\n",
       "    </tr>\n",
       "  </thead>\n",
       "  <tbody>\n",
       "    <tr>\n",
       "      <th>0</th>\n",
       "      <td>apollo</td>\n",
       "      <td>revenue</td>\n",
       "      <td>0.99635</td>\n",
       "      <td>0.00000</td>\n",
       "      <td>0.000000</td>\n",
       "      <td>0.000000</td>\n",
       "      <td>79.516592</td>\n",
       "      <td>0.030874</td>\n",
       "    </tr>\n",
       "    <tr>\n",
       "      <th>1</th>\n",
       "      <td>apollo</td>\n",
       "      <td>conversion</td>\n",
       "      <td>0.98335</td>\n",
       "      <td>0.00000</td>\n",
       "      <td>0.000000</td>\n",
       "      <td>0.000000</td>\n",
       "      <td>59.306973</td>\n",
       "      <td>0.180955</td>\n",
       "    </tr>\n",
       "    <tr>\n",
       "      <th>2</th>\n",
       "      <td>gemini</td>\n",
       "      <td>conversion</td>\n",
       "      <td>0.01665</td>\n",
       "      <td>0.01655</td>\n",
       "      <td>-37.338546</td>\n",
       "      <td>37.517256</td>\n",
       "      <td>-37.228109</td>\n",
       "      <td>37.414463</td>\n",
       "    </tr>\n",
       "    <tr>\n",
       "      <th>3</th>\n",
       "      <td>gemini</td>\n",
       "      <td>revenue</td>\n",
       "      <td>0.00365</td>\n",
       "      <td>0.00450</td>\n",
       "      <td>-44.139117</td>\n",
       "      <td>44.355148</td>\n",
       "      <td>-44.294843</td>\n",
       "      <td>44.219714</td>\n",
       "    </tr>\n",
       "  </tbody>\n",
       "</table>\n",
       "</div>"
      ],
      "text/plain": [
       "  Variant     Measure  ProbabilityToBeBest  ProbabilityToBeatBaseline  \\\n",
       "0  apollo     revenue              0.99635                    0.00000   \n",
       "1  apollo  conversion              0.98335                    0.00000   \n",
       "2  gemini  conversion              0.01665                    0.01655   \n",
       "3  gemini     revenue              0.00365                    0.00450   \n",
       "\n",
       "   UpliftFromBaseline  PotentialLossFromBaseline  MaxUplift  MaxPotentialLoss  \n",
       "0            0.000000                   0.000000  79.516592          0.030874  \n",
       "1            0.000000                   0.000000  59.306973          0.180955  \n",
       "2          -37.338546                  37.517256 -37.228109         37.414463  \n",
       "3          -44.139117                  44.355148 -44.294843         44.219714  "
      ]
     },
     "execution_count": 10,
     "metadata": {},
     "output_type": "execute_result"
    }
   ],
   "source": [
    "e.result.score_baseline()"
   ]
  },
  {
   "cell_type": "code",
   "execution_count": 11,
   "metadata": {},
   "outputs": [
    {
     "data": {
      "text/plain": [
       "<module 'matplotlib.pyplot' from '/Users/manuel.eugster/Library/anaconda3/envs/prayas/lib/python3.7/site-packages/matplotlib/pyplot.py'>"
      ]
     },
     "execution_count": 11,
     "metadata": {},
     "output_type": "execute_result"
    },
    {
     "data": {
      "image/png": "[encoded data removed]",
      "text/plain": [
       "<Figure size 432x288 with 1 Axes>"
      ]
     },
     "metadata": {
      "needs_background": "light"
     },
     "output_type": "display_data"
    },
    {
     "data": {
      "image/png": "[encoded data removed]",
      "text/plain": [
       "<Figure size 432x288 with 1 Axes>"
      ]
     },
     "metadata": {
      "needs_background": "light"
     },
     "output_type": "display_data"
    }
   ],
   "source": [
    "e.result.plot()"
   ]
  },
  {
   "cell_type": "code",
   "execution_count": 12,
   "metadata": {},
   "outputs": [
    {
     "data": {
      "text/html": [
       "<div>\n",
       "<style scoped>\n",
       "    .dataframe tbody tr th:only-of-type {\n",
       "        vertical-align: middle;\n",
       "    }\n",
       "\n",
       "    .dataframe tbody tr th {\n",
       "        vertical-align: top;\n",
       "    }\n",
       "\n",
       "    .dataframe thead th {\n",
       "        text-align: right;\n",
       "    }\n",
       "</style>\n",
       "<table border=\"1\" class=\"dataframe\">\n",
       "  <thead>\n",
       "    <tr style=\"text-align: right;\">\n",
       "      <th></th>\n",
       "      <th>Variant</th>\n",
       "      <th>Measure</th>\n",
       "      <th>ProbabilityToBeBest</th>\n",
       "      <th>ProbabilityToBeatBaseline</th>\n",
       "      <th>UpliftFromBaseline</th>\n",
       "      <th>PotentialLossFromBaseline</th>\n",
       "      <th>MaxUplift</th>\n",
       "      <th>MaxPotentialLoss</th>\n",
       "    </tr>\n",
       "  </thead>\n",
       "  <tbody>\n",
       "    <tr>\n",
       "      <th>0</th>\n",
       "      <td>apollo</td>\n",
       "      <td>revenue</td>\n",
       "      <td>0.99645</td>\n",
       "      <td>0.0</td>\n",
       "      <td>0.0</td>\n",
       "      <td>0.0</td>\n",
       "      <td>79.114487</td>\n",
       "      <td>0.030371</td>\n",
       "    </tr>\n",
       "  </tbody>\n",
       "</table>\n",
       "</div>"
      ],
      "text/plain": [
       "  Variant  Measure  ProbabilityToBeBest  ProbabilityToBeatBaseline  \\\n",
       "0  apollo  revenue              0.99645                        0.0   \n",
       "\n",
       "   UpliftFromBaseline  PotentialLossFromBaseline  MaxUplift  MaxPotentialLoss  \n",
       "0                 0.0                        0.0  79.114487          0.030371  "
      ]
     },
     "execution_count": 12,
     "metadata": {},
     "output_type": "execute_result"
    }
   ],
   "source": [
    "e.result.decision()"
   ]
  },
  {
   "cell_type": "markdown",
   "metadata": {},
   "source": [
    "Based on the primary measure defined for this experiment, we would go with the variant 'apollo'."
   ]
  }
 ],
 "metadata": {
  "kernelspec": {
   "display_name": "Python 3",
   "language": "python",
   "name": "python3"
  },
  "language_info": {
   "codemirror_mode": {
    "name": "ipython",
    "version": 3
   },
   "file_extension": ".py",
   "mimetype": "text/x-python",
   "name": "python",
   "nbconvert_exporter": "python",
   "pygments_lexer": "ipython3",
   "version": "3.7.6"
  }
 },
 "nbformat": 4,
 "nbformat_minor": 4
}
